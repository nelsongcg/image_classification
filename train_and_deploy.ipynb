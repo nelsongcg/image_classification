{
 "cells": [
  {
   "cell_type": "markdown",
   "metadata": {},
   "source": [
    "# TODO: Title\n",
    "\n",
    "This notebook lists all the steps that you need to complete the complete this project. You will need to complete all the TODOs in this notebook as well as in the README and the two python scripts included with the starter code.\n",
    "\n",
    "\n",
    "**TODO**: Give a helpful introduction to what this notebook is for. Remember that comments, explanations and good documentation make your project informative and professional.\n",
    "\n",
    "**Note:** This notebook has a bunch of code and markdown cells with TODOs that you have to complete. These are meant to be helpful guidelines for you to finish your project while meeting the requirements in the project rubrics. Feel free to change the order of these the TODO's and use more than one TODO code cell to do all your tasks."
   ]
  },
  {
   "cell_type": "code",
   "execution_count": null,
   "metadata": {
    "scrolled": true
   },
   "outputs": [],
   "source": [
    "# TODO: Install any packages that you might need\n",
    "# For instance, you will need the smdebug package\n",
    "!pip install smdebug"
   ]
  },
  {
   "cell_type": "code",
   "execution_count": 7,
   "metadata": {},
   "outputs": [],
   "source": [
    "# TODO: Import any packages that you might need\n",
    "# For instance you will need Boto3 and Sagemaker\n",
    "import sagemaker\n",
    "import boto3\n",
    "import urllib\n",
    "import zipfile\n",
    "import os"
   ]
  },
  {
   "cell_type": "markdown",
   "metadata": {},
   "source": [
    "## Dataset\n",
    "TODO: Explain what dataset you are using for this project. Maybe even give a small overview of the classes, class distributions etc that can help anyone not familiar with the dataset get a better understand of it."
   ]
  },
  {
   "cell_type": "code",
   "execution_count": 4,
   "metadata": {},
   "outputs": [
    {
     "data": {
      "text/plain": [
       "('data/dogImages.zip', <http.client.HTTPMessage at 0x7fc736c87ed0>)"
      ]
     },
     "execution_count": 4,
     "metadata": {},
     "output_type": "execute_result"
    }
   ],
   "source": [
    "#download the data for classification\n",
    "urllib.request.urlretrieve(\"https://s3-us-west-1.amazonaws.com/udacity-aind/dog-project/dogImages.zip\", \"data/dogImages.zip\")"
   ]
  },
  {
   "cell_type": "code",
   "execution_count": 6,
   "metadata": {},
   "outputs": [],
   "source": [
    "import zipfile\n",
    "with zipfile.ZipFile(\"data/dogImages.zip\", 'r') as zip_ref:\n",
    "    zip_ref.extractall(\"data\")\n"
   ]
  },
  {
   "cell_type": "code",
   "execution_count": 11,
   "metadata": {},
   "outputs": [],
   "source": [
    "del zip_ref"
   ]
  },
  {
   "cell_type": "markdown",
   "metadata": {},
   "source": [
    "The dataset contains a selection of dog picures divided into 133 breeds. We can see their distribution in the graph below"
   ]
  },
  {
   "cell_type": "code",
   "execution_count": 13,
   "metadata": {},
   "outputs": [
    {
     "data": {
      "text/plain": [
       "['114.Otterhound',\n",
       " '110.Norwegian_lundehund',\n",
       " '127.Silky_terrier',\n",
       " '091.Japanese_chin',\n",
       " '095.Kuvasz',\n",
       " '061.English_cocker_spaniel',\n",
       " '043.Canaan_dog',\n",
       " '131.Wirehaired_pointing_griffon',\n",
       " '124.Poodle',\n",
       " '087.Irish_terrier',\n",
       " '053.Cocker_spaniel',\n",
       " '064.English_toy_spaniel',\n",
       " '105.Neapolitan_mastiff',\n",
       " '032.Boston_terrier',\n",
       " '017.Bearded_collie',\n",
       " '094.Komondor',\n",
       " '003.Airedale_terrier',\n",
       " '084.Icelandic_sheepdog',\n",
       " '122.Pointer',\n",
       " '098.Leonberger',\n",
       " '125.Portuguese_water_dog',\n",
       " '009.American_water_spaniel',\n",
       " '058.Dandie_dinmont_terrier',\n",
       " '115.Papillon',\n",
       " '006.American_eskimo_dog',\n",
       " '041.Bullmastiff',\n",
       " '085.Irish_red_and_white_setter',\n",
       " '081.Greyhound',\n",
       " '004.Akita',\n",
       " '103.Mastiff',\n",
       " '044.Cane_corso',\n",
       " '118.Pembroke_welsh_corgi',\n",
       " '013.Australian_terrier',\n",
       " '117.Pekingese',\n",
       " '002.Afghan_hound',\n",
       " '025.Black_and_tan_coonhound',\n",
       " '129.Tibetan_mastiff',\n",
       " '093.Kerry_blue_terrier',\n",
       " '023.Bernese_mountain_dog',\n",
       " '070.German_pinscher',\n",
       " '052.Clumber_spaniel',\n",
       " '048.Chihuahua',\n",
       " '088.Irish_water_spaniel',\n",
       " '050.Chinese_shar-pei',\n",
       " '106.Newfoundland',\n",
       " '019.Bedlington_terrier',\n",
       " '092.Keeshond',\n",
       " '038.Brussels_griffon',\n",
       " '108.Norwegian_buhund',\n",
       " '097.Lakeland_terrier',\n",
       " '062.English_setter',\n",
       " '074.Giant_schnauzer',\n",
       " '123.Pomeranian',\n",
       " '119.Petit_basset_griffon_vendeen',\n",
       " '029.Border_collie',\n",
       " '022.Belgian_tervuren',\n",
       " '116.Parson_russell_terrier',\n",
       " '086.Irish_setter',\n",
       " '133.Yorkshire_terrier',\n",
       " '010.Anatolian_shepherd_dog',\n",
       " '120.Pharaoh_hound',\n",
       " '021.Belgian_sheepdog',\n",
       " '033.Bouvier_des_flandres',\n",
       " '066.Field_spaniel',\n",
       " '113.Old_english_sheepdog',\n",
       " '060.Dogue_de_bordeaux',\n",
       " '130.Welsh_springer_spaniel',\n",
       " '011.Australian_cattle_dog',\n",
       " '008.American_staffordshire_terrier',\n",
       " '132.Xoloitzcuintli',\n",
       " '063.English_springer_spaniel',\n",
       " '027.Bloodhound',\n",
       " '047.Chesapeake_bay_retriever',\n",
       " '051.Chow_chow',\n",
       " '016.Beagle',\n",
       " '037.Brittany',\n",
       " '034.Boxer',\n",
       " '039.Bull_terrier',\n",
       " '121.Plott',\n",
       " '045.Cardigan_welsh_corgi',\n",
       " '057.Dalmatian',\n",
       " '073.German_wirehaired_pointer',\n",
       " '042.Cairn_terrier',\n",
       " '090.Italian_greyhound',\n",
       " '035.Boykin_spaniel',\n",
       " '065.Entlebucher_mountain_dog',\n",
       " '072.German_shorthaired_pointer',\n",
       " '107.Norfolk_terrier',\n",
       " '112.Nova_scotia_duck_tolling_retriever',\n",
       " '020.Belgian_malinois',\n",
       " '104.Miniature_schnauzer',\n",
       " '082.Havanese',\n",
       " '046.Cavalier_king_charles_spaniel',\n",
       " '026.Black_russian_terrier',\n",
       " '067.Finnish_spitz',\n",
       " '083.Ibizan_hound',\n",
       " '089.Irish_wolfhound',\n",
       " '075.Glen_of_imaal_terrier',\n",
       " '126.Saint_bernard',\n",
       " '049.Chinese_crested',\n",
       " '005.Alaskan_malamute',\n",
       " '015.Basset_hound',\n",
       " '079.Great_pyrenees',\n",
       " '096.Labrador_retriever',\n",
       " '001.Affenpinscher',\n",
       " '036.Briard',\n",
       " '101.Maltese',\n",
       " '080.Greater_swiss_mountain_dog',\n",
       " '077.Gordon_setter',\n",
       " '128.Smooth_fox_terrier',\n",
       " '040.Bulldog',\n",
       " '069.French_bulldog',\n",
       " '018.Beauceron',\n",
       " '055.Curly-coated_retriever',\n",
       " '099.Lhasa_apso',\n",
       " '056.Dachshund',\n",
       " '076.Golden_retriever',\n",
       " '030.Border_terrier',\n",
       " '109.Norwegian_elkhound',\n",
       " '071.German_shepherd_dog',\n",
       " '012.Australian_shepherd',\n",
       " '111.Norwich_terrier',\n",
       " '031.Borzoi',\n",
       " '028.Bluetick_coonhound',\n",
       " '102.Manchester_terrier',\n",
       " '078.Great_dane',\n",
       " '068.Flat-coated_retriever',\n",
       " '059.Doberman_pinscher',\n",
       " '014.Basenji',\n",
       " '024.Bichon_frise',\n",
       " '100.Lowchen',\n",
       " '054.Collie',\n",
       " '007.American_foxhound']"
      ]
     },
     "execution_count": 13,
     "metadata": {},
     "output_type": "execute_result"
    }
   ],
   "source": [
    "dog_breeds = os.listdir('data/dogImages/train')\n",
    "os.listdir('data/dogImages/train')"
   ]
  },
  {
   "cell_type": "markdown",
   "metadata": {},
   "source": [
    "## Hyperparameter Tuning\n",
    "**TODO:** This is the part where you will finetune a pretrained model with hyperparameter tuning. Remember that you have to tune a minimum of two hyperparameters. However you are encouraged to tune more. You are also encouraged to explain why you chose to tune those particular hyperparameters and the ranges.\n",
    "\n",
    "**Note:** You will need to use the `hpo.py` script to perform hyperparameter tuning."
   ]
  },
  {
   "cell_type": "code",
   "execution_count": null,
   "metadata": {},
   "outputs": [],
   "source": [
    "#TODO: Declare your HP ranges, metrics etc."
   ]
  },
  {
   "cell_type": "code",
   "execution_count": null,
   "metadata": {},
   "outputs": [],
   "source": [
    "#TODO: Create estimators for your HPs\n",
    "\n",
    "estimator = # TODO: Your estimator here\n",
    "\n",
    "tuner = # TODO: Your HP tuner here"
   ]
  },
  {
   "cell_type": "code",
   "execution_count": null,
   "metadata": {},
   "outputs": [],
   "source": [
    "# TODO: Fit your HP Tuner\n",
    "tuner.fit() # TODO: Remember to include your data channels"
   ]
  },
  {
   "cell_type": "code",
   "execution_count": null,
   "metadata": {},
   "outputs": [],
   "source": [
    "# TODO: Get the best estimators and the best HPs\n",
    "\n",
    "best_estimator = #TODO\n",
    "\n",
    "#Get the hyperparameters of the best trained model\n",
    "best_estimator.hyperparameters()"
   ]
  },
  {
   "cell_type": "markdown",
   "metadata": {},
   "source": [
    "## Model Profiling and Debugging\n",
    "TODO: Using the best hyperparameters, create and finetune a new model\n",
    "\n",
    "**Note:** You will need to use the `train_model.py` script to perform model profiling and debugging."
   ]
  },
  {
   "cell_type": "code",
   "execution_count": null,
   "metadata": {},
   "outputs": [],
   "source": [
    "# TODO: Set up debugging and profiling rules and hooks"
   ]
  },
  {
   "cell_type": "code",
   "execution_count": null,
   "metadata": {},
   "outputs": [],
   "source": [
    "# TODO: Create and fit an estimator\n",
    "\n",
    "estimator = # TODO: Your estimator here"
   ]
  },
  {
   "cell_type": "code",
   "execution_count": null,
   "metadata": {},
   "outputs": [],
   "source": [
    "# TODO: Plot a debugging output."
   ]
  },
  {
   "cell_type": "markdown",
   "metadata": {},
   "source": [
    "**TODO**: Is there some anomalous behaviour in your debugging output? If so, what is the error and how will you fix it?  \n",
    "**TODO**: If not, suppose there was an error. What would that error look like and how would you have fixed it?"
   ]
  },
  {
   "cell_type": "code",
   "execution_count": null,
   "metadata": {},
   "outputs": [],
   "source": [
    "# TODO: Display the profiler output"
   ]
  },
  {
   "cell_type": "markdown",
   "metadata": {},
   "source": [
    "## Model Deploying"
   ]
  },
  {
   "cell_type": "code",
   "execution_count": null,
   "metadata": {},
   "outputs": [],
   "source": [
    "# TODO: Deploy your model to an endpoint\n",
    "\n",
    "predictor=estimator.deploy() # TODO: Add your deployment configuration like instance type and number of instances"
   ]
  },
  {
   "cell_type": "code",
   "execution_count": null,
   "metadata": {},
   "outputs": [],
   "source": [
    "# TODO: Run an prediction on the endpoint\n",
    "\n",
    "image = # TODO: Your code to load and preprocess image to send to endpoint for prediction\n",
    "response = predictor.predict(image)"
   ]
  },
  {
   "cell_type": "code",
   "execution_count": null,
   "metadata": {},
   "outputs": [],
   "source": [
    "# TODO: Remember to shutdown/delete your endpoint once your work is done\n",
    "predictor.delete_endpoint()"
   ]
  },
  {
   "cell_type": "code",
   "execution_count": null,
   "metadata": {},
   "outputs": [],
   "source": []
  }
 ],
 "metadata": {
  "instance_type": "ml.t3.medium",
  "kernelspec": {
   "display_name": "Python 3 (Data Science)",
   "language": "python",
   "name": "python3__SAGEMAKER_INTERNAL__arn:aws:sagemaker:ap-northeast-1:102112518831:image/datascience-1.0"
  },
  "language_info": {
   "codemirror_mode": {
    "name": "ipython",
    "version": 3
   },
   "file_extension": ".py",
   "mimetype": "text/x-python",
   "name": "python",
   "nbconvert_exporter": "python",
   "pygments_lexer": "ipython3",
   "version": "3.7.10"
  }
 },
 "nbformat": 4,
 "nbformat_minor": 4
}
